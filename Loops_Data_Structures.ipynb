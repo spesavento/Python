{
 "cells": [
  {
   "cell_type": "markdown",
   "metadata": {},
   "source": [
    "### Loops in python\n",
    "\n",
    "Now that we know python basics, we can start to build tools to do basic python tasks many lines over and over. This concept is known as Looping. There are two main types of loops, for and while loops. But before that, let’s explore a few things.\n",
    "\n",
    "In the cell below, type print(range(10)):"
   ]
  },
  {
   "cell_type": "code",
   "execution_count": 2,
   "metadata": {},
   "outputs": [
    {
     "name": "stdout",
     "output_type": "stream",
     "text": [
      "range(0, 10)\n"
     ]
    }
   ],
   "source": [
    "print(range(10))"
   ]
  },
  {
   "cell_type": "markdown",
   "metadata": {},
   "source": [
    "The output of the cell should look like range(0,10). This is something new to python 3, where this range function outputs a range generator. Instead of worrying about what this is, look at the code of the output below to see what actually is contained in this range generator:"
   ]
  },
  {
   "cell_type": "code",
   "execution_count": 3,
   "metadata": {},
   "outputs": [
    {
     "name": "stdout",
     "output_type": "stream",
     "text": [
      "0\n",
      "1\n",
      "2\n",
      "3\n",
      "4\n",
      "5\n",
      "6\n",
      "7\n",
      "8\n",
      "9\n"
     ]
    }
   ],
   "source": [
    "x = range(10) # assigning the generator to a variable\n",
    "print(x[0]) #now I'm printing the first index of the generator (assigned to a variable)\n",
    "print(x[1])\n",
    "print(x[2])\n",
    "print(x[3])\n",
    "print(x[4])\n",
    "print(x[5])\n",
    "print(x[6])\n",
    "print(x[7])\n",
    "print(x[8])\n",
    "print(x[9])"
   ]
  },
  {
   "cell_type": "markdown",
   "metadata": {},
   "source": [
    "Notice that each index refers to its number in this case. But we input 10 into the range function... so what’s going on here? In the cell below, try and find the 10th index of x:\n"
   ]
  },
  {
   "cell_type": "code",
   "execution_count": 6,
   "metadata": {},
   "outputs": [
    {
     "data": {
      "text/plain": [
       "9"
      ]
     },
     "execution_count": 6,
     "metadata": {},
     "output_type": "execute_result"
    }
   ],
   "source": [
    "x[9] \n",
    "# _n - 1"
   ]
  },
  {
   "cell_type": "markdown",
   "metadata": {},
   "source": [
    "If you are doing this right, you will get an error. What can we conclude about the range function and how python counts? "
   ]
  },
  {
   "cell_type": "markdown",
   "metadata": {},
   "source": []
  },
  {
   "cell_type": "markdown",
   "metadata": {},
   "source": [
    "For more on the range function, you can look at python's official documentation:https://docs.python.org/2/library/functions.html#range\n",
    "\n",
    "This range function allows us to do some basic looping. Remember when I printed out all the indices of x ? Below is an example of a loop to do that:\n"
   ]
  },
  {
   "cell_type": "code",
   "execution_count": 9,
   "metadata": {},
   "outputs": [
    {
     "name": "stdout",
     "output_type": "stream",
     "text": [
      "0\n",
      "1\n",
      "2\n",
      "3\n",
      "4\n",
      "5\n",
      "6\n",
      "7\n",
      "8\n",
      "9\n"
     ]
    }
   ],
   "source": [
    "for i in range(10): # range is the same as x, if you remember\n",
    "    print (i) #everything indented is inside the loop"
   ]
  },
  {
   "cell_type": "markdown",
   "metadata": {},
   "source": [
    "Notice that I start the loop with a \"for\" signifying a for loop, and I use the \"in\" word to saying I want \"i\" to be something \"in\" range(10). I end the loop statement with a colon: and then everything indented inside the loop is going to happen. Write below, in plain words, what you think is going on in the loop. Note, this might be a nebulous idea to you now, which is why its good to take a minute or two to think about it:"
   ]
  },
  {
   "cell_type": "markdown",
   "metadata": {},
   "source": []
  },
  {
   "cell_type": "code",
   "execution_count": 10,
   "metadata": {},
   "outputs": [
    {
     "name": "stdout",
     "output_type": "stream",
     "text": [
      "2\n",
      "2\n",
      "2\n",
      "2\n",
      "2\n",
      "this is out of the loop\n"
     ]
    }
   ],
   "source": [
    "#Lets further explore the loop by writing another one:\n",
    "for i in range(5): # notice the 5\n",
    "    print(1+1)\n",
    "print(\"this is out of the loop\")"
   ]
  },
  {
   "cell_type": "markdown",
   "metadata": {},
   "source": [
    "The output should show that it printed 1+1 five times. Does this help you understand what is going on in the for loop? The loop continues to do stuff until it runs out of numbers inside the range. Notice the string \"this is out of the loop\" was printed only once. That’s because the for loop (and the code immediately under AND indented) executes all its code, and then anything outside and below the for loop is then executed. This is something you will be more comfortable with as you use python more.\n",
    "\n",
    "Another cool thing we can do is loop through a python string, see below:"
   ]
  },
  {
   "cell_type": "code",
   "execution_count": 11,
   "metadata": {},
   "outputs": [
    {
     "name": "stdout",
     "output_type": "stream",
     "text": [
      "m\n",
      "y\n",
      "_\n",
      "s\n",
      "t\n",
      "r\n",
      "i\n",
      "n\n",
      "g\n"
     ]
    }
   ],
   "source": [
    "for letter in \"my_string\":\n",
    "    print(letter)"
   ]
  },
  {
   "cell_type": "markdown",
   "metadata": {},
   "source": [
    "Now you might be thinking, ok, what are for loops good for? Well, we can combine them with conditional statements (control flow) to do more complex tasks, like sort numbers in odd or even bins, see the code below:\n"
   ]
  },
  {
   "cell_type": "code",
   "execution_count": 14,
   "metadata": {},
   "outputs": [
    {
     "name": "stdout",
     "output_type": "stream",
     "text": [
      "0  even\n",
      "1  odd\n",
      "2  even\n",
      "3  odd\n",
      "4  even\n",
      "5  odd\n",
      "6  even\n",
      "7  odd\n",
      "8  even\n",
      "9  odd\n"
     ]
    }
   ],
   "source": [
    "for i in range(10):\n",
    "    if i%2 == 1: \n",
    "        print(i,\" odd\")\n",
    "    else:\n",
    "        print(i,\" even\")"
   ]
  },
  {
   "cell_type": "markdown",
   "metadata": {},
   "source": [
    "Remember that pesky \"mod\" symbol? Can you explain why i%2 == 1 always means that i is odd? Explain below, and do some calculations or talk to a neighbor if you need to: % is the remainder so the remainder of an odd number / 2 is always equal to 1. Ex: 5/2 = 2 with remainder 1"
   ]
  },
  {
   "cell_type": "markdown",
   "metadata": {},
   "source": []
  },
  {
   "cell_type": "code",
   "execution_count": 15,
   "metadata": {},
   "outputs": [
    {
     "name": "stdout",
     "output_type": "stream",
     "text": [
      "\n",
      "*\n",
      "**\n",
      "***\n",
      "****\n",
      "*****\n",
      "******\n",
      "*******\n",
      "********\n",
      "*********\n"
     ]
    }
   ],
   "source": [
    "#We can also do some neat stuff with print and loops\n",
    "for i in range(10):\n",
    "    print(\"*\"*i)"
   ]
  },
  {
   "cell_type": "markdown",
   "metadata": {},
   "source": [
    "But what about the other loop I mentioned, while loops? See the code below:"
   ]
  },
  {
   "cell_type": "code",
   "execution_count": 1,
   "metadata": {},
   "outputs": [
    {
     "name": "stdout",
     "output_type": "stream",
     "text": [
      "0\n",
      "1\n",
      "2\n",
      "3\n",
      "4\n",
      "5\n",
      "6\n",
      "7\n",
      "8\n",
      "9\n",
      "10\n",
      "11\n",
      "12\n",
      "13\n",
      "14\n",
      "15\n",
      "16\n",
      "17\n",
      "18\n",
      "19\n",
      "20\n",
      "21\n",
      "22\n",
      "23\n",
      "24\n"
     ]
    }
   ],
   "source": [
    "count = 0\n",
    "while count < 25: # while True\n",
    "    print(count)\n",
    "    count += 1"
   ]
  },
  {
   "cell_type": "markdown",
   "metadata": {},
   "source": [
    "The format of a while loop is as follows, the term while + a conditional. Everything inside the while loop executes over and over until that conditional is no longer True. Then the loop stops. In fact, if you type the statement While True:.... the loop will go on forever (don't do this until you’re a bit more experienced). So the code above starts with count being 0. Then i initiates the while loop that executes if count is less than 25. Then I print count inside the loop, and then I add 1 to count at the end of the loop. Once I've added 1 to count 24 times, count < 25 is no longer True, so the loop breaks. \n",
    "\n",
    "So in summary, loops allow us do to programming operations many times with a short amount of writing. For loops are great for when you know how many times you want to loop (i.e, the range). While loops are great when you know, what stopping conditional you want, but not necessarily how many loop iterations it will require getting to. \n",
    "\n",
    "Next section will be on Data Structures (how you store data in python), and when we combine general python programming, loops, and data structures we can start to build powerful tools and programs.\n"
   ]
  },
  {
   "cell_type": "markdown",
   "metadata": {},
   "source": [
    "# Data Structures\n",
    "\n",
    "Data structures (in any programming language) are objects that hold data. The two most used data structures in python are Lists and Dictionaries, which is what we will go over today.  \n",
    "\n",
    "The basic structure of a list is as followed:"
   ]
  },
  {
   "cell_type": "code",
   "execution_count": 5,
   "metadata": {},
   "outputs": [
    {
     "data": {
      "text/plain": [
       "[1, 2, 3, 'four']"
      ]
     },
     "execution_count": 5,
     "metadata": {},
     "output_type": "execute_result"
    }
   ],
   "source": [
    "my_list = [1,2,3,'four']\n",
    "my_list\n",
    "#can have two types in one list (R would coerce to string)"
   ]
  },
  {
   "cell_type": "markdown",
   "metadata": {},
   "source": [
    "The list is built with brackets, and it can have any data type/ structure stored in it. You can have floats, ints, strings, and lists and dictionaries stored inside lists. In the cell below, enter print(type(my_list)):"
   ]
  },
  {
   "cell_type": "code",
   "execution_count": 6,
   "metadata": {},
   "outputs": [
    {
     "name": "stdout",
     "output_type": "stream",
     "text": [
      "<class 'list'>\n"
     ]
    }
   ],
   "source": [
    "print(type(my_list))"
   ]
  },
  {
   "cell_type": "markdown",
   "metadata": {},
   "source": [
    "To see its contents, type print(my_list)"
   ]
  },
  {
   "cell_type": "code",
   "execution_count": 7,
   "metadata": {},
   "outputs": [
    {
     "name": "stdout",
     "output_type": "stream",
     "text": [
      "[1, 2, 3, 'four']\n"
     ]
    }
   ],
   "source": [
    "print(my_list)"
   ]
  },
  {
   "cell_type": "markdown",
   "metadata": {},
   "source": [
    "The contents of lists are stored in indexes, you can access them as follows:"
   ]
  },
  {
   "cell_type": "code",
   "execution_count": 12,
   "metadata": {},
   "outputs": [
    {
     "name": "stdout",
     "output_type": "stream",
     "text": [
      "1 <class 'int'>\n",
      "2 <class 'int'>\n",
      "3 <class 'int'>\n",
      "four <class 'str'>\n"
     ]
    }
   ],
   "source": [
    "print(my_list[0],type(my_list[0]))\n",
    "print(my_list[1],type(my_list[1]))\n",
    "print(my_list[2],type(my_list[2]))\n",
    "print(my_list[3],type(my_list[3]))"
   ]
  },
  {
   "cell_type": "code",
   "execution_count": 10,
   "metadata": {},
   "outputs": [
    {
     "data": {
      "text/plain": [
       "11"
      ]
     },
     "execution_count": 10,
     "metadata": {},
     "output_type": "execute_result"
    }
   ],
   "source": [
    "len('this_string')"
   ]
  },
  {
   "cell_type": "markdown",
   "metadata": {},
   "source": [
    "Above you can see the contents of the list at each index and the data type of each value at that index. Is there a way we can do this in less lines of code? See below:"
   ]
  },
  {
   "cell_type": "code",
   "execution_count": 11,
   "metadata": {},
   "outputs": [
    {
     "name": "stdout",
     "output_type": "stream",
     "text": [
      "1 <class 'int'>\n",
      "2 <class 'int'>\n",
      "3 <class 'int'>\n",
      "four <class 'str'>\n"
     ]
    }
   ],
   "source": [
    "for i in range(len(my_list)): #len function gives you the length of the list\n",
    "    print(my_list[i],type(my_list[i]))"
   ]
  },
  {
   "cell_type": "markdown",
   "metadata": {},
   "source": [
    "Can you write out, in plain words, exactly what is happening in the code? Write it out below"
   ]
  },
  {
   "cell_type": "markdown",
   "metadata": {},
   "source": []
  },
  {
   "cell_type": "markdown",
   "metadata": {},
   "source": [
    "Now that we've learned the basics of lists, loops and conditional statements, we can combine the three:"
   ]
  },
  {
   "cell_type": "code",
   "execution_count": 13,
   "metadata": {},
   "outputs": [
    {
     "name": "stdout",
     "output_type": "stream",
     "text": [
      "THIS IS ODD\n",
      "This IS EVEN\n",
      "THIS IS ODD\n",
      "THIS IS A STRING\n"
     ]
    }
   ],
   "source": [
    "for i in range(len(my_list)):\n",
    "    if type(my_list[i]) == str:\n",
    "        print('THIS IS A STRING')\n",
    "    if type(my_list[i]) == int:\n",
    "        if my_list[i]%2:\n",
    "            print(\"THIS IS ODD\")\n",
    "        else:\n",
    "            print(\"This IS EVEN\")"
   ]
  },
  {
   "cell_type": "markdown",
   "metadata": {},
   "source": [
    "The code above is more complex than what we have gone on before, but I want you to imagine a situation. Say my_list is storing some important data that you need to process - if the number is odd or even, or if it is a string. So, you loop through the entire list (using our new-found length command) and then use conditional statements to give us the data processing we need. \n",
    "\n",
    "Next let’s do some exploring of lists built in features. Python's website lists all of the lists built in functionality: https://docs.python.org/3/tutorial/datastructures.html#more-on-lists. The format for using this functionality is as follows:\n",
    "    my_list.function(item) \n",
    "\n",
    "where the item could be any data type, with some functions having some limited to certain inputs (for example, extend you have to input a list of items, even if it’s only 1 item ( [item1]))\n",
    "\n",
    "Here is the list we will use for the task below:"
   ]
  },
  {
   "cell_type": "code",
   "execution_count": 42,
   "metadata": {},
   "outputs": [],
   "source": [
    "ravenclaws = ['Cho', 'Luna', 'Marcus', 'Anthony', 'Padma', 'Terry', 'Duncan', 'Latisha']"
   ]
  },
  {
   "cell_type": "markdown",
   "metadata": {},
   "source": [
    "Now use the following functions on the list below:\n",
    "\n",
    "use .append(item) to add item to a list:"
   ]
  },
  {
   "cell_type": "code",
   "execution_count": 35,
   "metadata": {},
   "outputs": [
    {
     "data": {
      "text/plain": [
       "['Cho', 'Luna', 'Marcus', 'Anthony', 'Padma', 'Terry', 'Duncan', 'Latisha', 1]"
      ]
     },
     "execution_count": 35,
     "metadata": {},
     "output_type": "execute_result"
    }
   ],
   "source": [
    "ravenclaws.append(1)\n",
    "ravenclaws\n",
    "#adds 1 to the end of the list"
   ]
  },
  {
   "cell_type": "markdown",
   "metadata": {},
   "source": [
    "use .extend([item1, item2]) to join another list to the end of the list"
   ]
  },
  {
   "cell_type": "code",
   "execution_count": 20,
   "metadata": {},
   "outputs": [
    {
     "data": {
      "text/plain": [
       "['Cho',\n",
       " 'Luna',\n",
       " 'Marcus',\n",
       " 'Anthony',\n",
       " 'Padma',\n",
       " 'Terry',\n",
       " 'Duncan',\n",
       " 'Latisha',\n",
       " 1,\n",
       " 1,\n",
       " 1,\n",
       " 's',\n",
       " 'a',\n",
       " 'r',\n",
       " 'a',\n",
       " 'h',\n",
       " 's',\n",
       " 'a',\n",
       " 'r',\n",
       " 'a',\n",
       " 'h',\n",
       " 's',\n",
       " 'a',\n",
       " 'r',\n",
       " 'a',\n",
       " 'h']"
      ]
     },
     "execution_count": 20,
     "metadata": {},
     "output_type": "execute_result"
    }
   ],
   "source": [
    "ravenclaws.extend('sarah')\n",
    "ravenclaws\n",
    "#extend is looking for more than one "
   ]
  },
  {
   "cell_type": "code",
   "execution_count": 36,
   "metadata": {},
   "outputs": [
    {
     "data": {
      "text/plain": [
       "['Cho',\n",
       " 'Luna',\n",
       " 'Marcus',\n",
       " 'Anthony',\n",
       " 'Padma',\n",
       " 'Terry',\n",
       " 'Duncan',\n",
       " 'Latisha',\n",
       " 1,\n",
       " 'sarah',\n",
       " 'travis']"
      ]
     },
     "execution_count": 36,
     "metadata": {},
     "output_type": "execute_result"
    }
   ],
   "source": [
    "ravenclaws.extend(['sarah', 'travis'])\n",
    "ravenclaws"
   ]
  },
  {
   "cell_type": "markdown",
   "metadata": {},
   "source": [
    "use .insert(index, item) to add an item to a list at an index"
   ]
  },
  {
   "cell_type": "code",
   "execution_count": 37,
   "metadata": {},
   "outputs": [
    {
     "data": {
      "text/plain": [
       "['Cho',\n",
       " 'Luna',\n",
       " 'Marcus',\n",
       " 'Anthony',\n",
       " 'Padma',\n",
       " 'Izma',\n",
       " 'Terry',\n",
       " 'Duncan',\n",
       " 'Latisha',\n",
       " 1,\n",
       " 'sarah',\n",
       " 'travis']"
      ]
     },
     "execution_count": 37,
     "metadata": {},
     "output_type": "execute_result"
    }
   ],
   "source": [
    "ravenclaws.insert(5, 'Izma')\n",
    "ravenclaws"
   ]
  },
  {
   "cell_type": "markdown",
   "metadata": {},
   "source": [
    "use .remove(item) to remove an item from a list"
   ]
  },
  {
   "cell_type": "code",
   "execution_count": 39,
   "metadata": {},
   "outputs": [
    {
     "data": {
      "text/plain": [
       "['Cho',\n",
       " 'Luna',\n",
       " 'Marcus',\n",
       " 'Anthony',\n",
       " 'Padma',\n",
       " 'Izma',\n",
       " 'Terry',\n",
       " 'Duncan',\n",
       " 'Latisha',\n",
       " 1,\n",
       " 'travis']"
      ]
     },
     "execution_count": 39,
     "metadata": {},
     "output_type": "execute_result"
    }
   ],
   "source": [
    "ravenclaws.remove('sarah')\n",
    "ravenclaws"
   ]
  },
  {
   "cell_type": "markdown",
   "metadata": {},
   "source": [
    "use .sort() to sort a list"
   ]
  },
  {
   "cell_type": "code",
   "execution_count": 43,
   "metadata": {},
   "outputs": [
    {
     "data": {
      "text/plain": [
       "['Terry', 'Padma', 'Marcus', 'Luna', 'Latisha', 'Duncan', 'Cho', 'Anthony']"
      ]
     },
     "execution_count": 43,
     "metadata": {},
     "output_type": "execute_result"
    }
   ],
   "source": [
    "#ascending is default\n",
    "ravenclaws.sort()\n",
    "ravenclaws\n",
    "ravenclaws.sort(reverse = True)\n",
    "ravenclaws"
   ]
  },
  {
   "cell_type": "markdown",
   "metadata": {},
   "source": [
    "use .count(item) to count the number of times an item appears in a list"
   ]
  },
  {
   "cell_type": "code",
   "execution_count": 45,
   "metadata": {},
   "outputs": [
    {
     "data": {
      "text/plain": [
       "0"
      ]
     },
     "execution_count": 45,
     "metadata": {},
     "output_type": "execute_result"
    }
   ],
   "source": [
    "ravenclaws.count('cho')"
   ]
  },
  {
   "cell_type": "markdown",
   "metadata": {},
   "source": [
    "use .index(item) to find the index of an element in a list"
   ]
  },
  {
   "cell_type": "code",
   "execution_count": 44,
   "metadata": {},
   "outputs": [
    {
     "data": {
      "text/plain": [
       "6"
      ]
     },
     "execution_count": 44,
     "metadata": {},
     "output_type": "execute_result"
    }
   ],
   "source": [
    "ravenclaws.index('Cho')"
   ]
  },
  {
   "cell_type": "markdown",
   "metadata": {},
   "source": [
    "use .pop() to extract (and remove) the last element of a list"
   ]
  },
  {
   "cell_type": "code",
   "execution_count": 49,
   "metadata": {},
   "outputs": [
    {
     "data": {
      "text/plain": [
       "['Terry', 'Padma', 'Marcus', 'Luna', 'Latisha']"
      ]
     },
     "execution_count": 49,
     "metadata": {},
     "output_type": "execute_result"
    }
   ],
   "source": [
    "ravenclaws.pop()\n",
    "ravenclaws"
   ]
  },
  {
   "cell_type": "markdown",
   "metadata": {},
   "source": [
    "use .reverse() to reverse a list"
   ]
  },
  {
   "cell_type": "code",
   "execution_count": 50,
   "metadata": {},
   "outputs": [
    {
     "data": {
      "text/plain": [
       "['Latisha', 'Luna', 'Marcus', 'Padma', 'Terry']"
      ]
     },
     "execution_count": 50,
     "metadata": {},
     "output_type": "execute_result"
    }
   ],
   "source": [
    "ravenclaws.reverse()\n",
    "ravenclaws"
   ]
  },
  {
   "cell_type": "markdown",
   "metadata": {},
   "source": [
    "Lets think of lists now in general - they store data by assigning them an index. This is an important\n",
    "distinction, because Dictionaries are formed with key value pairs, see below:"
   ]
  },
  {
   "cell_type": "code",
   "execution_count": 54,
   "metadata": {},
   "outputs": [],
   "source": [
    "my_dictionary = { 'Kobe Bryant': 24 , \n",
    "                 'Michael Jordan': 23, \n",
    "                 'Tim Duncan': 21}"
   ]
  },
  {
   "cell_type": "markdown",
   "metadata": {},
   "source": [
    "if my_dictionary, was a list, we would access Kobe bryant's number by my_dictionary[0]. However, Dictionaries are placed with key ('Kobe Bryant) and value (24) pairs. Key's can be any data type (number, string) and values can be anything (string,number,data structure).  The dictionary is denoted with curly brackets, and to set a key value pair, you do {my_key:my_value}. To access a value a dictionary:"
   ]
  },
  {
   "cell_type": "code",
   "execution_count": 56,
   "metadata": {},
   "outputs": [
    {
     "name": "stdout",
     "output_type": "stream",
     "text": [
      "21\n"
     ]
    }
   ],
   "source": [
    "print(my_dictionary['Tim Duncan'])"
   ]
  },
  {
   "cell_type": "markdown",
   "metadata": {},
   "source": [
    "An analgous real life data structure is a \"phone book\", where the key is the person/buisness name, and the value is their phone number. Also, Facebook keeps all your data in dictionary like structures (JSONs). Same with other social media / internet companies. \n",
    "\n",
    "It's important to reiterate, because dictionaries store keys and values (not indexes), the values in the dictionary are not considered sorted. \n",
    "\n",
    "Lets see what happens when we loop through the dictionary:"
   ]
  },
  {
   "cell_type": "code",
   "execution_count": 57,
   "metadata": {},
   "outputs": [
    {
     "name": "stdout",
     "output_type": "stream",
     "text": [
      "Kobe Bryant : 24\n",
      "Michael Jordan : 23\n",
      "Tim Duncan : 21\n"
     ]
    }
   ],
   "source": [
    "for key in my_dictionary:\n",
    "    print(key,\":\",my_dictionary[key])"
   ]
  },
  {
   "cell_type": "markdown",
   "metadata": {},
   "source": [
    "As you can see, the variable key, becomes a key in my_dictionary and loops through all the keys. Pretty neat! "
   ]
  },
  {
   "cell_type": "markdown",
   "metadata": {},
   "source": [
    "You can also add to dictionaries dynamically by adding a new key value pair (unlike a list where you have to append), see below:"
   ]
  },
  {
   "cell_type": "code",
   "execution_count": 58,
   "metadata": {},
   "outputs": [
    {
     "name": "stdout",
     "output_type": "stream",
     "text": [
      "Before I add the player:  {'Kobe Bryant': 24, 'Michael Jordan': 23, 'Tim Duncan': 21}\n",
      "With the new player: {'Kobe Bryant': 24, 'Michael Jordan': 23, 'Tim Duncan': 21, 'Lonzo Ball': 2}\n"
     ]
    }
   ],
   "source": [
    "print(\"Before I add the player: \", my_dictionary)\n",
    "my_dictionary[\"Lonzo Ball\"] = 2\n",
    "print(\"With the new player:\", my_dictionary)"
   ]
  },
  {
   "cell_type": "markdown",
   "metadata": {},
   "source": [
    "Now lets imagine I have two lists of data that I imported from a text file. One list contains names of players, the next list has the player number. I can loop through both those lists and dynamically put them into a dictionary as follows: "
   ]
  },
  {
   "cell_type": "code",
   "execution_count": 59,
   "metadata": {},
   "outputs": [
    {
     "name": "stdout",
     "output_type": "stream",
     "text": [
      "{'Kobe_Bryant': '24', 'Michael Jordan': '23', 'Tim Duncan': '21', 'Lonzo Ball': '2'}\n"
     ]
    }
   ],
   "source": [
    "player_names = ['Kobe_Bryant','Michael Jordan','Tim Duncan','Lonzo Ball']\n",
    "player_numbers = ['24','23','21','2']\n",
    "player_dictionary = {} #Here I have made an empty dictionary\n",
    "for name,number in zip(player_names,player_numbers):\n",
    "    #here I zip together the two lists using the zip function (you can google it if you are curious)\n",
    "    #the variable name takes on a data point in player_names and the variable number takes on a data point\n",
    "    #in player_numbers\n",
    "    player_dictionary[name] = number # here i fill the dictionary with the key value pair\n",
    "print(player_dictionary)"
   ]
  },
  {
   "cell_type": "markdown",
   "metadata": {},
   "source": [
    "Now that we know the basics of dictionaries in python, we can go to python's website again and look at other functionalities of dictionaries: https://docs.python.org/3/tutorial/datastructures.html#dictionaries\n",
    "\n",
    "Do the following below the the zards dictionary: (Notice that each value is a list and not a single value)"
   ]
  },
  {
   "cell_type": "code",
   "execution_count": 66,
   "metadata": {},
   "outputs": [
    {
     "name": "stdout",
     "output_type": "stream",
     "text": [
      "{'Ginny Weasley': ['Human', 0, 1999], 'Hermione Granger': ['Human', 0, 1999], 'Sirius Black': ['Human', 1, 1978], 'Bellatrix Lestrange': ['Human', 0, 1969], 'Ron Weasley': ['Human', 1, None], 'Rubeus Hagrid': ['Half-Giant', 1, None], 'Albus Dumbledore': ['Human', 1, 1858], 'Tom Riddle': ['Human', 1, 1945]}\n"
     ]
    }
   ],
   "source": [
    "zards = {'Ginny Weasley' : ['Human', 0, 1999],\n",
    "    'Hermione Granger' : ['Human', 0, 1999],\n",
    "    'Sirius Black' : ['Human', 1, 1978],\n",
    "    'Bellatrix Lestrange' : ['Human', 0, 1969],\n",
    "    'Ron Weasley' : ['Human', 1, None],\n",
    "    'Rubeus Hagrid' : ['Half-Giant', 1, None],\n",
    "    'Albus Dumbledore' : ['Human', 1, 1858],\n",
    "    'Tom Riddle' : ['Human', 1, 1945]}\n",
    "print(zards)"
   ]
  },
  {
   "cell_type": "markdown",
   "metadata": {},
   "source": [
    "use .pop(key) to remove a key:value pair from the dictionary and return the value"
   ]
  },
  {
   "cell_type": "code",
   "execution_count": 62,
   "metadata": {},
   "outputs": [
    {
     "data": {
      "text/plain": [
       "{'Ginny Weasley': ['Human', 0, 1999],\n",
       " 'Hermione Granger': ['Human', 0, 1999],\n",
       " 'Sirius Black': ['Human', 1, 1978],\n",
       " 'Bellatrix Lestrange': ['Human', 0, 1969],\n",
       " 'Ron Weasley': ['Human', 1, None],\n",
       " 'Rubeus Hagrid': ['Half-Giant', 1, None],\n",
       " 'Albus Dumbledore': ['Human', 1, 1858],\n",
       " 'Tom Riddle': ['Human', 1, 1945]}"
      ]
     },
     "execution_count": 62,
     "metadata": {},
     "output_type": "execute_result"
    }
   ],
   "source": [
    "zards"
   ]
  },
  {
   "cell_type": "code",
   "execution_count": 67,
   "metadata": {},
   "outputs": [
    {
     "data": {
      "text/plain": [
       "{'Ginny Weasley': ['Human', 0, 1999],\n",
       " 'Hermione Granger': ['Human', 0, 1999],\n",
       " 'Bellatrix Lestrange': ['Human', 0, 1969],\n",
       " 'Ron Weasley': ['Human', 1, None],\n",
       " 'Rubeus Hagrid': ['Half-Giant', 1, None],\n",
       " 'Albus Dumbledore': ['Human', 1, 1858],\n",
       " 'Tom Riddle': ['Human', 1, 1945]}"
      ]
     },
     "execution_count": 67,
     "metadata": {},
     "output_type": "execute_result"
    }
   ],
   "source": [
    "zards.pop('Sirius Black')\n",
    "zards"
   ]
  },
  {
   "cell_type": "markdown",
   "metadata": {},
   "source": [
    "use .get(key) to get the value for a key"
   ]
  },
  {
   "cell_type": "code",
   "execution_count": 69,
   "metadata": {},
   "outputs": [
    {
     "data": {
      "text/plain": [
       "['Human', 0, 1999]"
      ]
     },
     "execution_count": 69,
     "metadata": {},
     "output_type": "execute_result"
    }
   ],
   "source": [
    "zards.get('Ginny Weasley')"
   ]
  },
  {
   "cell_type": "markdown",
   "metadata": {},
   "source": [
    "use .keys() to get a list of the keys in the dictionary"
   ]
  },
  {
   "cell_type": "code",
   "execution_count": 70,
   "metadata": {},
   "outputs": [
    {
     "data": {
      "text/plain": [
       "dict_keys(['Ginny Weasley', 'Hermione Granger', 'Bellatrix Lestrange', 'Ron Weasley', 'Rubeus Hagrid', 'Albus Dumbledore', 'Tom Riddle'])"
      ]
     },
     "execution_count": 70,
     "metadata": {},
     "output_type": "execute_result"
    }
   ],
   "source": [
    "zards.keys()"
   ]
  },
  {
   "cell_type": "markdown",
   "metadata": {},
   "source": [
    "use .items() to get a list of the key:value pairs in the dictionary"
   ]
  },
  {
   "cell_type": "code",
   "execution_count": 71,
   "metadata": {},
   "outputs": [
    {
     "data": {
      "text/plain": [
       "dict_items([('Ginny Weasley', ['Human', 0, 1999]), ('Hermione Granger', ['Human', 0, 1999]), ('Bellatrix Lestrange', ['Human', 0, 1969]), ('Ron Weasley', ['Human', 1, None]), ('Rubeus Hagrid', ['Half-Giant', 1, None]), ('Albus Dumbledore', ['Human', 1, 1858]), ('Tom Riddle', ['Human', 1, 1945])])"
      ]
     },
     "execution_count": 71,
     "metadata": {},
     "output_type": "execute_result"
    }
   ],
   "source": [
    "zards.items()"
   ]
  },
  {
   "cell_type": "markdown",
   "metadata": {},
   "source": [
    " use .update(other_dictionary) to merge a 2nd dictionary into the current dictionary"
   ]
  },
  {
   "cell_type": "code",
   "execution_count": 72,
   "metadata": {},
   "outputs": [],
   "source": [
    "zards.update(my_dictionary)"
   ]
  },
  {
   "cell_type": "code",
   "execution_count": 73,
   "metadata": {},
   "outputs": [
    {
     "data": {
      "text/plain": [
       "{'Ginny Weasley': ['Human', 0, 1999],\n",
       " 'Hermione Granger': ['Human', 0, 1999],\n",
       " 'Bellatrix Lestrange': ['Human', 0, 1969],\n",
       " 'Ron Weasley': ['Human', 1, None],\n",
       " 'Rubeus Hagrid': ['Half-Giant', 1, None],\n",
       " 'Albus Dumbledore': ['Human', 1, 1858],\n",
       " 'Tom Riddle': ['Human', 1, 1945],\n",
       " 'Kobe Bryant': 24,\n",
       " 'Michael Jordan': 23,\n",
       " 'Tim Duncan': 21,\n",
       " 'Lonzo Ball': 2}"
      ]
     },
     "execution_count": 73,
     "metadata": {},
     "output_type": "execute_result"
    }
   ],
   "source": [
    "zards"
   ]
  },
  {
   "cell_type": "markdown",
   "metadata": {},
   "source": [
    "use .clear() to remove all key:value pairs from the dictionary"
   ]
  },
  {
   "cell_type": "code",
   "execution_count": 74,
   "metadata": {},
   "outputs": [
    {
     "data": {
      "text/plain": [
       "{}"
      ]
     },
     "execution_count": 74,
     "metadata": {},
     "output_type": "execute_result"
    }
   ],
   "source": [
    "zards.clear()\n",
    "zards"
   ]
  },
  {
   "cell_type": "markdown",
   "metadata": {},
   "source": [
    "There are other data structures in python, such as sets and tuples. Explore them if you have more time, otherwise we will go on to build functions in the next notebook"
   ]
  },
  {
   "cell_type": "code",
   "execution_count": null,
   "metadata": {
    "collapsed": true
   },
   "outputs": [],
   "source": []
  }
 ],
 "metadata": {
  "kernelspec": {
   "display_name": "Python 3",
   "language": "python",
   "name": "python3"
  },
  "language_info": {
   "codemirror_mode": {
    "name": "ipython",
    "version": 3
   },
   "file_extension": ".py",
   "mimetype": "text/x-python",
   "name": "python",
   "nbconvert_exporter": "python",
   "pygments_lexer": "ipython3",
   "version": "3.7.0"
  }
 },
 "nbformat": 4,
 "nbformat_minor": 2
}
