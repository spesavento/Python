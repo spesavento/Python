{
 "cells": [
  {
   "cell_type": "markdown",
   "metadata": {},
   "source": [
    "## Functions\n",
    "    with all our powers combined"
   ]
  },
  {
   "cell_type": "markdown",
   "metadata": {},
   "source": [
    "define a function that prints \"hello world\":"
   ]
  },
  {
   "cell_type": "markdown",
   "metadata": {},
   "source": [
    "def function_name():\n",
    "    do_function\n",
    "    return obj"
   ]
  },
  {
   "cell_type": "code",
   "execution_count": 1,
   "metadata": {},
   "outputs": [],
   "source": [
    "def hello_world():\n",
    "    return(\"hello_world\")"
   ]
  },
  {
   "cell_type": "code",
   "execution_count": 2,
   "metadata": {},
   "outputs": [
    {
     "data": {
      "text/plain": [
       "'hello_world'"
      ]
     },
     "execution_count": 2,
     "metadata": {},
     "output_type": "execute_result"
    }
   ],
   "source": [
    "hello_world()"
   ]
  },
  {
   "cell_type": "markdown",
   "metadata": {},
   "source": [
    "define a function a function that takes two lists and outputs a dictionairy:"
   ]
  },
  {
   "cell_type": "code",
   "execution_count": 14,
   "metadata": {},
   "outputs": [],
   "source": [
    "names = ['Alex','Kim',\"Harold\"]\n",
    "ages = [20,50,17]"
   ]
  },
  {
   "cell_type": "code",
   "execution_count": 18,
   "metadata": {},
   "outputs": [
    {
     "name": "stdout",
     "output_type": "stream",
     "text": [
      "['Alex', 'Kim', 'Harold'] [20, 50, 17]\n",
      "['Alex', 'Kim', 'Harold'] [20, 50, 17]\n",
      "['Alex', 'Kim', 'Harold'] [20, 50, 17]\n"
     ]
    },
    {
     "data": {
      "text/plain": [
       "{'Alex': 20, 'Kim': 50, 'Harold': 17}"
      ]
     },
     "execution_count": 18,
     "metadata": {},
     "output_type": "execute_result"
    }
   ],
   "source": [
    "def dictionary(name, age):\n",
    "    my_dictionary = {}\n",
    "    for a,b in zip(name,age):\n",
    "        print(name, age)\n",
    "        my_dictionary[a] = b \n",
    "    return(my_dictionary)\n",
    "\n",
    "dictionary(names, ages)"
   ]
  },
  {
   "cell_type": "code",
   "execution_count": null,
   "metadata": {},
   "outputs": [],
   "source": [
    "   "
   ]
  },
  {
   "cell_type": "markdown",
   "metadata": {},
   "source": [
    "define a function that takes the average value of a list:"
   ]
  },
  {
   "cell_type": "code",
   "execution_count": 24,
   "metadata": {},
   "outputs": [
    {
     "data": {
      "text/plain": [
       "3.0"
      ]
     },
     "execution_count": 24,
     "metadata": {},
     "output_type": "execute_result"
    }
   ],
   "source": [
    "num_list = [1,2,3,4,5]\n",
    "\n",
    "def average(list):\n",
    "    sum = 0\n",
    "    for i in range(len(list)):\n",
    "        sum += list[i]\n",
    "    return(sum/len(list))\n",
    "    \n",
    "    \n",
    "average(num_list)\n",
    "    "
   ]
  },
  {
   "cell_type": "markdown",
   "metadata": {},
   "source": [
    "## Challenges\n",
    "     do on your own, get help from friends, get help from me,\n",
    "     look back at other notebooks for advice.\n",
    "     these are in no particular order, some are harder than others"
   ]
  },
  {
   "cell_type": "markdown",
   "metadata": {},
   "source": [
    "define a function that finds the minimum or maximum value in the_dictionary and returns the key value pair:"
   ]
  },
  {
   "cell_type": "code",
   "execution_count": 52,
   "metadata": {},
   "outputs": [
    {
     "data": {
      "text/plain": [
       "(1, 5)"
      ]
     },
     "execution_count": 52,
     "metadata": {},
     "output_type": "execute_result"
    }
   ],
   "source": [
    "the_dictionary = {'Addidas': 1,\n",
    "                  'Nike': 2,\n",
    "                  'New Balance':3 ,\n",
    "                  'Puma': 4,\n",
    "                  'Under Armor': 5\n",
    "}\n",
    "\n",
    "##### Define Function Here\n",
    "def min_max1(dic):\n",
    "    new_max = 3\n",
    "    new_min = 3\n",
    "    for i in dic:\n",
    "        key = dic[i]\n",
    "        if key >= new_max:\n",
    "            new_max = key\n",
    "        elif key <= new_min:\n",
    "            new_min = key\n",
    "        else:\n",
    "            continue\n",
    "    return(new_min, new_max)\n",
    "\n",
    "    \n",
    "##### Test function Here\n",
    "min_max1(the_dictionary)"
   ]
  },
  {
   "cell_type": "code",
   "execution_count": 54,
   "metadata": {},
   "outputs": [
    {
     "ename": "SyntaxError",
     "evalue": "invalid syntax (<ipython-input-54-e664815f9c7f>, line 14)",
     "output_type": "error",
     "traceback": [
      "\u001b[0;36m  File \u001b[0;32m\"<ipython-input-54-e664815f9c7f>\"\u001b[0;36m, line \u001b[0;32m14\u001b[0m\n\u001b[0;31m    for i in\u001b[0m\n\u001b[0m             ^\u001b[0m\n\u001b[0;31mSyntaxError\u001b[0m\u001b[0;31m:\u001b[0m invalid syntax\n"
     ]
    }
   ],
   "source": [
    "the_dictionary2 = {'Addidas': 1,\n",
    "                  'Nike': 2,\n",
    "                  'New Balance':3 ,\n",
    "                  'Puma': 4,\n",
    "                  'Under Armor': 5\n",
    "}\n",
    "\n",
    "##### Define Function Here\n",
    "def min_max2(dic, minimum = False):\n",
    "    max = max(dic.values())\n",
    "    min = min(dic.values())\n",
    "    \n",
    "    if minimum:\n",
    "        for i in \n",
    "    \n",
    "            continue\n",
    "    return(new_min, new_max)\n",
    "\n",
    "    \n",
    "##### Test function Here\n",
    "min_max2(the_dictionary2)"
   ]
  },
  {
   "cell_type": "markdown",
   "metadata": {},
   "source": [
    "define a function that reverses the the_string and prints it out:"
   ]
  },
  {
   "cell_type": "markdown",
   "metadata": {},
   "source": [
    "[start:stop]\n",
    "[start:stop:step]\n",
    "[::-1] all values in between increment by -1"
   ]
  },
  {
   "cell_type": "code",
   "execution_count": 57,
   "metadata": {},
   "outputs": [
    {
     "data": {
      "text/plain": [
       "\"siht od nac uoy fi ees ot tnaw tsuj I ,revelc t'nsi siht\""
      ]
     },
     "execution_count": 57,
     "metadata": {},
     "output_type": "execute_result"
    }
   ],
   "source": [
    "the_string = \"this isn't clever, I just want to see if you can do this\"\n",
    "##### Define Function Here\n",
    "def reverser(input_string):\n",
    "    return input_string[::-1]\n",
    "\n",
    "##### Test function Here\n",
    "\n",
    "reverser(the_string)"
   ]
  },
  {
   "cell_type": "markdown",
   "metadata": {},
   "source": [
    "define a function  to find the same values in the two lists:"
   ]
  },
  {
   "cell_type": "code",
   "execution_count": 62,
   "metadata": {},
   "outputs": [
    {
     "name": "stdout",
     "output_type": "stream",
     "text": [
      "No matches\n"
     ]
    }
   ],
   "source": [
    "a = [1, 1, 2, 3, 5, 8, 13, 21, 34, 55, 89,11,11]\n",
    "b = [1, 2, 3, 4, 5, 6, 7, 8, 9, 10, 11, 12, 13]\n",
    "c = [0,2,3]; d = ['a', 'b', 'c']\n",
    "\n",
    "##### Define Function Here\n",
    "def same_values(list1,list2):\n",
    "    empty_list = []\n",
    "    for i,j in zip(list1, list2):\n",
    "        if i == j:\n",
    "            empty_list.append(i)\n",
    "    if len(empty_list) == 0:\n",
    "        print('No matches')\n",
    "    else: \n",
    "        return empty_list\n",
    "\n",
    "##### Test function Here\n",
    "same_values(a,b)\n",
    "same_values(c,d)"
   ]
  },
  {
   "cell_type": "markdown",
   "metadata": {},
   "source": [
    "define a function to find the age of people born in a list of birth years:"
   ]
  },
  {
   "cell_type": "code",
   "execution_count": 60,
   "metadata": {},
   "outputs": [
    {
     "data": {
      "text/plain": [
       "[1990, 1999]"
      ]
     },
     "execution_count": 60,
     "metadata": {},
     "output_type": "execute_result"
    }
   ],
   "source": [
    "birth_years = [1990,1952,1725,1886,1942,1998,2005,1999]\n",
    "\n",
    "##### Define Function Here\n",
    "def born_in_list(some_list):\n",
    "    if type(some_list) != list:\n",
    "        print(some_list, \"is not a list\")\n",
    "    birth_years = [1990,1952,1725,1886,1942,1998,2005,1999]\n",
    "    empty_list = [] \n",
    "    for element in some_list:\n",
    "        if element in birth_years:\n",
    "            empty_list.append(element)\n",
    "        else:\n",
    "            pass\n",
    "    return empty_list\n",
    "\n",
    "##### Test function Here\n",
    "born_in_list([1945,1022,1990,2007,1999])"
   ]
  },
  {
   "cell_type": "markdown",
   "metadata": {},
   "source": [
    "Define a function that outputs the 'n_th' fibonnaci number. The fibonnaci sequence starts like this: 1,1,2,3,5,8,13:"
   ]
  },
  {
   "cell_type": "code",
   "execution_count": 147,
   "metadata": {},
   "outputs": [
    {
     "name": "stdout",
     "output_type": "stream",
     "text": [
      "10\n"
     ]
    },
    {
     "data": {
      "text/plain": [
       "[1, 1, 2, 3, 5, 8, 13, 21, 34, 55]"
      ]
     },
     "execution_count": 147,
     "metadata": {},
     "output_type": "execute_result"
    }
   ],
   "source": [
    "length = 10\n",
    "##### Define Function Here 1 1 2 3 5 8 12 \n",
    "def fibonacci(nm, start1, start2):\n",
    "    print(nm)\n",
    "    empty_list = []\n",
    "    empty_list.append(start1)\n",
    "    empty_list.append(start2)\n",
    "    for i in range(nm-2):\n",
    "        empty_list.append(start1 + start2)\n",
    "        start1 = start2\n",
    "        start2 = empty_list[i+2]   \n",
    "    return empty_list        \n",
    "\n",
    "##### Test function Here\n",
    "fibonacci(length, 1, 1)"
   ]
  },
  {
   "cell_type": "code",
   "execution_count": 125,
   "metadata": {},
   "outputs": [
    {
     "data": {
      "text/plain": [
       "2"
      ]
     },
     "execution_count": 125,
     "metadata": {},
     "output_type": "execute_result"
    }
   ],
   "source": [
    "\n"
   ]
  },
  {
   "cell_type": "code",
   "execution_count": null,
   "metadata": {},
   "outputs": [],
   "source": []
  }
 ],
 "metadata": {
  "kernelspec": {
   "display_name": "Python 3",
   "language": "python",
   "name": "python3"
  },
  "language_info": {
   "codemirror_mode": {
    "name": "ipython",
    "version": 3
   },
   "file_extension": ".py",
   "mimetype": "text/x-python",
   "name": "python",
   "nbconvert_exporter": "python",
   "pygments_lexer": "ipython3",
   "version": "3.7.0"
  }
 },
 "nbformat": 4,
 "nbformat_minor": 2
}
